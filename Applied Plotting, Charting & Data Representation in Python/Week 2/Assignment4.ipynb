{
 "cells": [
  {
   "cell_type": "markdown",
   "metadata": {},
   "source": [
    "# Assignment 4\n",
    "\n",
    "Before working on this assignment please read these instructions fully. In the submission area, you will notice that you can click the link to **Preview the Grading** for each step of the assignment. This is the criteria that will be used for peer grading. Please familiarize yourself with the criteria before beginning the assignment.\n",
    "\n",
    "This assignment requires that you to find **at least** two datasets on the web which are related, and that you visualize these datasets to answer a question with the broad topic of **sports or athletics** (see below) for the region of **Mississauga, Ontario, Canada**, or **Canada** more broadly.\n",
    "\n",
    "You can merge these datasets with data from different regions if you like! For instance, you might want to compare **Mississauga, Ontario, Canada** to Ann Arbor, USA. In that case at least one source file must be about **Mississauga, Ontario, Canada**.\n",
    "\n",
    "You are welcome to choose datasets at your discretion, but keep in mind **they will be shared with your peers**, so choose appropriate datasets. Sensitive, confidential, illicit, and proprietary materials are not good choices for datasets for this assignment. You are welcome to upload datasets of your own as well, and link to them using a third party repository such as github, bitbucket, pastebin, etc. Please be aware of the Coursera terms of service with respect to intellectual property.\n",
    "\n",
    "Also, you are welcome to preserve data in its original language, but for the purposes of grading you should provide english translations. You are welcome to provide multiple visuals in different languages if you would like!\n",
    "\n",
    "As this assignment is for the whole course, you must incorporate principles discussed in the first week, such as having as high data-ink ratio (Tufte) and aligning with Cairo’s principles of truth, beauty, function, and insight.\n",
    "\n",
    "Here are the assignment instructions:\n",
    "\n",
    " * State the region and the domain category that your data sets are about (e.g., **Mississauga, Ontario, Canada** and **sports or athletics**).\n",
    " * You must state a question about the domain category and region that you identified as being interesting.\n",
    " * You must provide at least two links to available datasets. These could be links to files such as CSV or Excel files, or links to websites which might have data in tabular form, such as Wikipedia pages.\n",
    " * You must upload an image which addresses the research question you stated. In addition to addressing the question, this visual should follow Cairo's principles of truthfulness, functionality, beauty, and insightfulness.\n",
    " * You must contribute a short (1-2 paragraph) written justification of how your visualization addresses your stated research question.\n",
    "\n",
    "What do we mean by **sports or athletics**?  For this category we are interested in sporting events or athletics broadly, please feel free to creatively interpret the category when building your research question!\n",
    "\n",
    "## Tips\n",
    "* Wikipedia is an excellent source of data, and I strongly encourage you to explore it for new data sources.\n",
    "* Many governments run open data initiatives at the city, region, and country levels, and these are wonderful resources for localized data sources.\n",
    "* Several international agencies, such as the [United Nations](http://data.un.org/), the [World Bank](http://data.worldbank.org/), the [Global Open Data Index](http://index.okfn.org/place/) are other great places to look for data.\n",
    "* This assignment requires you to convert and clean datafiles. Check out the discussion forums for tips on how to do this from various sources, and share your successes with your fellow students!\n",
    "\n",
    "## Example\n",
    "Looking for an example? Here's what our course assistant put together for the **Ann Arbor, MI, USA** area using **sports and athletics** as the topic. [Example Solution File](./readonly/Assignment4_example.pdf)"
   ]
  },
  {
   "cell_type": "code",
   "execution_count": 1,
   "metadata": {
    "collapsed": true
   },
   "outputs": [],
   "source": [
    "import pandas as pd\n",
    "import numpy as np\n",
    "import matplotlib.pyplot as plt"
   ]
  },
  {
   "cell_type": "code",
   "execution_count": 2,
   "metadata": {
    "collapsed": true
   },
   "outputs": [],
   "source": [
    "man_utd = pd.read_csv('man_utd.csv', skiprows = [0])\n",
    "man_city = pd.read_csv('man_city.csv', skiprows = [0])"
   ]
  },
  {
   "cell_type": "markdown",
   "metadata": {},
   "source": [
    "### Manchester United: "
   ]
  },
  {
   "cell_type": "code",
   "execution_count": 3,
   "metadata": {
    "collapsed": false
   },
   "outputs": [],
   "source": [
    "columns = list(man_utd.columns)\n",
    "columns = [col.strip() for col in columns]\n",
    "man_utd.columns = columns"
   ]
  },
  {
   "cell_type": "code",
   "execution_count": 4,
   "metadata": {
    "collapsed": false
   },
   "outputs": [
    {
     "data": {
      "text/plain": [
       "['Season',\n",
       " 'Division',\n",
       " 'Pld',\n",
       " 'W',\n",
       " 'D',\n",
       " 'L',\n",
       " 'GF',\n",
       " 'GA',\n",
       " 'Pts',\n",
       " 'Pos',\n",
       " 'FA Cup',\n",
       " 'EFL Cup',\n",
       " 'CommunityShield',\n",
       " 'UEFAFIFA',\n",
       " 'Name(s)',\n",
       " 'Goals']"
      ]
     },
     "execution_count": 4,
     "metadata": {},
     "output_type": "execute_result"
    }
   ],
   "source": [
    "columns = [col.strip() for col in columns]\n",
    "columns"
   ]
  },
  {
   "cell_type": "code",
   "execution_count": 5,
   "metadata": {
    "collapsed": true
   },
   "outputs": [],
   "source": [
    "man_utd.drop(['FA Cup','EFL Cup','CommunityShield','UEFAFIFA'], axis = 1, inplace = True)"
   ]
  },
  {
   "cell_type": "code",
   "execution_count": 6,
   "metadata": {
    "collapsed": false,
    "scrolled": true
   },
   "outputs": [
    {
     "data": {
      "text/plain": [
       "array(['1886–87[b] ', '— ', '— ', '— ', '— ', '— ', '— ', '— ', '— ', '— ',\n",
       "       'Jack Doughty', '2'], dtype=object)"
      ]
     },
     "execution_count": 6,
     "metadata": {},
     "output_type": "execute_result"
    }
   ],
   "source": [
    "man_utd.iloc[0].values"
   ]
  },
  {
   "cell_type": "code",
   "execution_count": 7,
   "metadata": {
    "collapsed": false
   },
   "outputs": [],
   "source": [
    "man_utd['Season'] = man_utd['Season'].apply(lambda x: int(x[0:4]))\n",
    "man_utd = man_utd[man_utd['Season'] >= 1900]"
   ]
  },
  {
   "cell_type": "code",
   "execution_count": 8,
   "metadata": {
    "collapsed": false
   },
   "outputs": [],
   "source": [
    "for col in man_utd:\n",
    "    try:\n",
    "        man_utd[col] = man_utd[col].str.strip()\n",
    "    except AttributeError:\n",
    "        pass"
   ]
  },
  {
   "cell_type": "code",
   "execution_count": 9,
   "metadata": {
    "collapsed": true
   },
   "outputs": [],
   "source": [
    "man_utd = man_utd[man_utd['Pld'] != '—']"
   ]
  },
  {
   "cell_type": "code",
   "execution_count": 10,
   "metadata": {
    "collapsed": false
   },
   "outputs": [],
   "source": [
    "man_utd['win_rate'] = round((man_utd['W'].astype('int').copy() / man_utd['Pld'].astype('int')) * 100,2)"
   ]
  },
  {
   "cell_type": "code",
   "execution_count": 11,
   "metadata": {
    "collapsed": false
   },
   "outputs": [],
   "source": [
    "man_utd['Goals'] = man_utd['Goals'].apply(lambda x: int(x[0:2]))"
   ]
  },
  {
   "cell_type": "code",
   "execution_count": 12,
   "metadata": {
    "collapsed": false,
    "scrolled": true
   },
   "outputs": [
    {
     "data": {
      "text/html": [
       "<div>\n",
       "<table border=\"1\" class=\"dataframe\">\n",
       "  <thead>\n",
       "    <tr style=\"text-align: right;\">\n",
       "      <th></th>\n",
       "      <th>Season</th>\n",
       "      <th>Division</th>\n",
       "      <th>Pld</th>\n",
       "      <th>W</th>\n",
       "      <th>D</th>\n",
       "      <th>L</th>\n",
       "      <th>GF</th>\n",
       "      <th>GA</th>\n",
       "      <th>Pts</th>\n",
       "      <th>Pos</th>\n",
       "      <th>Name(s)</th>\n",
       "      <th>Goals</th>\n",
       "      <th>win_rate</th>\n",
       "    </tr>\n",
       "  </thead>\n",
       "  <tbody>\n",
       "    <tr>\n",
       "      <th>13</th>\n",
       "      <td>1900</td>\n",
       "      <td>Div 2</td>\n",
       "      <td>34</td>\n",
       "      <td>14</td>\n",
       "      <td>4</td>\n",
       "      <td>16</td>\n",
       "      <td>42</td>\n",
       "      <td>38</td>\n",
       "      <td>32</td>\n",
       "      <td>10th</td>\n",
       "      <td>Tommy Leigh</td>\n",
       "      <td>14</td>\n",
       "      <td>41.18</td>\n",
       "    </tr>\n",
       "    <tr>\n",
       "      <th>14</th>\n",
       "      <td>1901</td>\n",
       "      <td>Div 2</td>\n",
       "      <td>34</td>\n",
       "      <td>11</td>\n",
       "      <td>6</td>\n",
       "      <td>17</td>\n",
       "      <td>38</td>\n",
       "      <td>53</td>\n",
       "      <td>28</td>\n",
       "      <td>15th</td>\n",
       "      <td>Stephen Preston</td>\n",
       "      <td>11</td>\n",
       "      <td>32.35</td>\n",
       "    </tr>\n",
       "    <tr>\n",
       "      <th>15</th>\n",
       "      <td>1902</td>\n",
       "      <td>Div 2</td>\n",
       "      <td>34</td>\n",
       "      <td>15</td>\n",
       "      <td>8</td>\n",
       "      <td>11</td>\n",
       "      <td>53</td>\n",
       "      <td>38</td>\n",
       "      <td>38</td>\n",
       "      <td>5th</td>\n",
       "      <td>Jack Peddie</td>\n",
       "      <td>15</td>\n",
       "      <td>44.12</td>\n",
       "    </tr>\n",
       "    <tr>\n",
       "      <th>16</th>\n",
       "      <td>1903</td>\n",
       "      <td>Div 2</td>\n",
       "      <td>34</td>\n",
       "      <td>20</td>\n",
       "      <td>8</td>\n",
       "      <td>6</td>\n",
       "      <td>65</td>\n",
       "      <td>33</td>\n",
       "      <td>48</td>\n",
       "      <td>3rd</td>\n",
       "      <td>Tommy Arkesden</td>\n",
       "      <td>15</td>\n",
       "      <td>58.82</td>\n",
       "    </tr>\n",
       "    <tr>\n",
       "      <th>17</th>\n",
       "      <td>1904</td>\n",
       "      <td>Div 2</td>\n",
       "      <td>34</td>\n",
       "      <td>24</td>\n",
       "      <td>5</td>\n",
       "      <td>5</td>\n",
       "      <td>81</td>\n",
       "      <td>30</td>\n",
       "      <td>53</td>\n",
       "      <td>3rd</td>\n",
       "      <td>Jack Peddie</td>\n",
       "      <td>17</td>\n",
       "      <td>70.59</td>\n",
       "    </tr>\n",
       "  </tbody>\n",
       "</table>\n",
       "</div>"
      ],
      "text/plain": [
       "    Season Division Pld   W  D   L  GF  GA Pts   Pos          Name(s)  Goals  \\\n",
       "13    1900    Div 2  34  14  4  16  42  38  32  10th      Tommy Leigh     14   \n",
       "14    1901    Div 2  34  11  6  17  38  53  28  15th  Stephen Preston     11   \n",
       "15    1902    Div 2  34  15  8  11  53  38  38   5th      Jack Peddie     15   \n",
       "16    1903    Div 2  34  20  8   6  65  33  48   3rd   Tommy Arkesden     15   \n",
       "17    1904    Div 2  34  24  5   5  81  30  53   3rd      Jack Peddie     17   \n",
       "\n",
       "    win_rate  \n",
       "13     41.18  \n",
       "14     32.35  \n",
       "15     44.12  \n",
       "16     58.82  \n",
       "17     70.59  "
      ]
     },
     "execution_count": 12,
     "metadata": {},
     "output_type": "execute_result"
    }
   ],
   "source": [
    "man_utd.head()"
   ]
  },
  {
   "cell_type": "code",
   "execution_count": 13,
   "metadata": {
    "collapsed": false
   },
   "outputs": [
    {
     "data": {
      "text/html": [
       "<div>\n",
       "<table border=\"1\" class=\"dataframe\">\n",
       "  <thead>\n",
       "    <tr style=\"text-align: right;\">\n",
       "      <th></th>\n",
       "      <th>Season</th>\n",
       "      <th>Division</th>\n",
       "      <th>Pld</th>\n",
       "      <th>W</th>\n",
       "      <th>D</th>\n",
       "      <th>L</th>\n",
       "      <th>GF</th>\n",
       "      <th>GA</th>\n",
       "      <th>Pts</th>\n",
       "      <th>Pos</th>\n",
       "      <th>Name(s)</th>\n",
       "      <th>Goals</th>\n",
       "      <th>win_rate</th>\n",
       "    </tr>\n",
       "  </thead>\n",
       "  <tbody>\n",
       "    <tr>\n",
       "      <th>121</th>\n",
       "      <td>2015</td>\n",
       "      <td>Prem</td>\n",
       "      <td>38</td>\n",
       "      <td>19</td>\n",
       "      <td>9</td>\n",
       "      <td>10</td>\n",
       "      <td>49</td>\n",
       "      <td>35</td>\n",
       "      <td>66</td>\n",
       "      <td>5th</td>\n",
       "      <td>Anthony Martial</td>\n",
       "      <td>17</td>\n",
       "      <td>50.00</td>\n",
       "    </tr>\n",
       "    <tr>\n",
       "      <th>122</th>\n",
       "      <td>2016</td>\n",
       "      <td>Prem</td>\n",
       "      <td>38</td>\n",
       "      <td>18</td>\n",
       "      <td>15</td>\n",
       "      <td>5</td>\n",
       "      <td>54</td>\n",
       "      <td>29</td>\n",
       "      <td>69</td>\n",
       "      <td>6th</td>\n",
       "      <td>Zlatan Ibrahimović</td>\n",
       "      <td>28</td>\n",
       "      <td>47.37</td>\n",
       "    </tr>\n",
       "    <tr>\n",
       "      <th>123</th>\n",
       "      <td>2017</td>\n",
       "      <td>Prem</td>\n",
       "      <td>38</td>\n",
       "      <td>25</td>\n",
       "      <td>6</td>\n",
       "      <td>7</td>\n",
       "      <td>68</td>\n",
       "      <td>28</td>\n",
       "      <td>81</td>\n",
       "      <td>2nd</td>\n",
       "      <td>Romelu Lukaku</td>\n",
       "      <td>27</td>\n",
       "      <td>65.79</td>\n",
       "    </tr>\n",
       "    <tr>\n",
       "      <th>124</th>\n",
       "      <td>2018</td>\n",
       "      <td>Prem</td>\n",
       "      <td>38</td>\n",
       "      <td>19</td>\n",
       "      <td>9</td>\n",
       "      <td>10</td>\n",
       "      <td>65</td>\n",
       "      <td>54</td>\n",
       "      <td>66</td>\n",
       "      <td>6th</td>\n",
       "      <td>Paul Pogba</td>\n",
       "      <td>16</td>\n",
       "      <td>50.00</td>\n",
       "    </tr>\n",
       "    <tr>\n",
       "      <th>125</th>\n",
       "      <td>2019</td>\n",
       "      <td>Prem</td>\n",
       "      <td>38</td>\n",
       "      <td>18</td>\n",
       "      <td>12</td>\n",
       "      <td>8</td>\n",
       "      <td>66</td>\n",
       "      <td>36</td>\n",
       "      <td>66</td>\n",
       "      <td>3rd</td>\n",
       "      <td>Anthony Martial</td>\n",
       "      <td>23</td>\n",
       "      <td>47.37</td>\n",
       "    </tr>\n",
       "  </tbody>\n",
       "</table>\n",
       "</div>"
      ],
      "text/plain": [
       "     Season Division Pld   W   D   L  GF  GA Pts  Pos             Name(s)  \\\n",
       "121    2015     Prem  38  19   9  10  49  35  66  5th     Anthony Martial   \n",
       "122    2016     Prem  38  18  15   5  54  29  69  6th  Zlatan Ibrahimović   \n",
       "123    2017     Prem  38  25   6   7  68  28  81  2nd       Romelu Lukaku   \n",
       "124    2018     Prem  38  19   9  10  65  54  66  6th          Paul Pogba   \n",
       "125    2019     Prem  38  18  12   8  66  36  66  3rd     Anthony Martial   \n",
       "\n",
       "     Goals  win_rate  \n",
       "121     17     50.00  \n",
       "122     28     47.37  \n",
       "123     27     65.79  \n",
       "124     16     50.00  \n",
       "125     23     47.37  "
      ]
     },
     "execution_count": 13,
     "metadata": {},
     "output_type": "execute_result"
    }
   ],
   "source": [
    "man_utd.tail()"
   ]
  },
  {
   "cell_type": "markdown",
   "metadata": {},
   "source": [
    "### Manchester City:"
   ]
  },
  {
   "cell_type": "code",
   "execution_count": 14,
   "metadata": {
    "collapsed": false
   },
   "outputs": [
    {
     "data": {
      "text/html": [
       "<div>\n",
       "<table border=\"1\" class=\"dataframe\">\n",
       "  <thead>\n",
       "    <tr style=\"text-align: right;\">\n",
       "      <th></th>\n",
       "      <th>Season</th>\n",
       "      <th>Division (Tier)</th>\n",
       "      <th>Pld</th>\n",
       "      <th>W</th>\n",
       "      <th>D</th>\n",
       "      <th>L</th>\n",
       "      <th>GF</th>\n",
       "      <th>GA</th>\n",
       "      <th>Pts</th>\n",
       "      <th>Pos</th>\n",
       "      <th>FA Cup</th>\n",
       "      <th>League Cup</th>\n",
       "      <th>UEFA / FIFA / Other</th>\n",
       "      <th>UEFA / FIFA / Other.1</th>\n",
       "      <th>Top scorer(s)[a]</th>\n",
       "      <th>Goals</th>\n",
       "    </tr>\n",
       "  </thead>\n",
       "  <tbody>\n",
       "    <tr>\n",
       "      <th>0</th>\n",
       "      <td>1891–92</td>\n",
       "      <td>Alln</td>\n",
       "      <td>22</td>\n",
       "      <td>6</td>\n",
       "      <td>6</td>\n",
       "      <td>10</td>\n",
       "      <td>39</td>\n",
       "      <td>51</td>\n",
       "      <td>18</td>\n",
       "      <td>8th</td>\n",
       "      <td>QR</td>\n",
       "      <td>NaN</td>\n",
       "      <td>NaN</td>\n",
       "      <td>NaN</td>\n",
       "      <td>Hugh Morris</td>\n",
       "      <td>10</td>\n",
       "    </tr>\n",
       "    <tr>\n",
       "      <th>1</th>\n",
       "      <td>1892–93</td>\n",
       "      <td>Div 2 (2)</td>\n",
       "      <td>22</td>\n",
       "      <td>9</td>\n",
       "      <td>3</td>\n",
       "      <td>10</td>\n",
       "      <td>45</td>\n",
       "      <td>40</td>\n",
       "      <td>21</td>\n",
       "      <td>5th</td>\n",
       "      <td>QR</td>\n",
       "      <td>NaN</td>\n",
       "      <td>NaN</td>\n",
       "      <td>NaN</td>\n",
       "      <td>David Weir</td>\n",
       "      <td>8</td>\n",
       "    </tr>\n",
       "    <tr>\n",
       "      <th>2</th>\n",
       "      <td>1893–94</td>\n",
       "      <td>Div 2 (2)</td>\n",
       "      <td>28</td>\n",
       "      <td>8</td>\n",
       "      <td>2</td>\n",
       "      <td>18</td>\n",
       "      <td>47</td>\n",
       "      <td>71</td>\n",
       "      <td>18</td>\n",
       "      <td>13th</td>\n",
       "      <td>QR</td>\n",
       "      <td>NaN</td>\n",
       "      <td>NaN</td>\n",
       "      <td>NaN</td>\n",
       "      <td>Hugh Morris</td>\n",
       "      <td>7</td>\n",
       "    </tr>\n",
       "    <tr>\n",
       "      <th>3</th>\n",
       "      <td>1894–95</td>\n",
       "      <td>Div 2 (2)</td>\n",
       "      <td>30</td>\n",
       "      <td>14</td>\n",
       "      <td>3</td>\n",
       "      <td>13</td>\n",
       "      <td>82</td>\n",
       "      <td>72</td>\n",
       "      <td>31</td>\n",
       "      <td>9th</td>\n",
       "      <td>Did not enter[b]</td>\n",
       "      <td>NaN</td>\n",
       "      <td>NaN</td>\n",
       "      <td>NaN</td>\n",
       "      <td>Pat Finnerhan</td>\n",
       "      <td>15</td>\n",
       "    </tr>\n",
       "    <tr>\n",
       "      <th>4</th>\n",
       "      <td>1895–96</td>\n",
       "      <td>Div 2 (2)</td>\n",
       "      <td>30</td>\n",
       "      <td>21</td>\n",
       "      <td>4</td>\n",
       "      <td>5</td>\n",
       "      <td>63</td>\n",
       "      <td>38</td>\n",
       "      <td>46</td>\n",
       "      <td>2nd[c]</td>\n",
       "      <td>Withdrew[d]</td>\n",
       "      <td>NaN</td>\n",
       "      <td>NaN</td>\n",
       "      <td>NaN</td>\n",
       "      <td>Billy Meredith</td>\n",
       "      <td>13</td>\n",
       "    </tr>\n",
       "  </tbody>\n",
       "</table>\n",
       "</div>"
      ],
      "text/plain": [
       "    Season Division (Tier) Pld   W  D   L  GF  GA Pts     Pos  \\\n",
       "0  1891–92            Alln  22   6  6  10  39  51  18     8th   \n",
       "1  1892–93       Div 2 (2)  22   9  3  10  45  40  21     5th   \n",
       "2  1893–94       Div 2 (2)  28   8  2  18  47  71  18    13th   \n",
       "3  1894–95       Div 2 (2)  30  14  3  13  82  72  31     9th   \n",
       "4  1895–96       Div 2 (2)  30  21  4   5  63  38  46  2nd[c]   \n",
       "\n",
       "             FA Cup League Cup UEFA / FIFA / Other UEFA / FIFA / Other.1  \\\n",
       "0                QR        NaN                 NaN                   NaN   \n",
       "1                QR        NaN                 NaN                   NaN   \n",
       "2                QR        NaN                 NaN                   NaN   \n",
       "3  Did not enter[b]        NaN                 NaN                   NaN   \n",
       "4       Withdrew[d]        NaN                 NaN                   NaN   \n",
       "\n",
       "  Top scorer(s)[a] Goals  \n",
       "0      Hugh Morris    10  \n",
       "1       David Weir     8  \n",
       "2      Hugh Morris     7  \n",
       "3    Pat Finnerhan    15  \n",
       "4   Billy Meredith    13  "
      ]
     },
     "execution_count": 14,
     "metadata": {},
     "output_type": "execute_result"
    }
   ],
   "source": [
    "man_city.head()"
   ]
  },
  {
   "cell_type": "code",
   "execution_count": 15,
   "metadata": {
    "collapsed": true
   },
   "outputs": [],
   "source": [
    "columns = list(man_city.columns)\n",
    "columns = [col.strip() for col in columns]\n",
    "man_city.columns = columns"
   ]
  },
  {
   "cell_type": "code",
   "execution_count": 16,
   "metadata": {
    "collapsed": false
   },
   "outputs": [
    {
     "data": {
      "text/plain": [
       "['Season',\n",
       " 'Division (Tier)',\n",
       " 'Pld',\n",
       " 'W',\n",
       " 'D',\n",
       " 'L',\n",
       " 'GF',\n",
       " 'GA',\n",
       " 'Pts',\n",
       " 'Pos',\n",
       " 'FA Cup',\n",
       " 'League Cup',\n",
       " 'UEFA / FIFA / Other',\n",
       " 'UEFA / FIFA / Other.1',\n",
       " 'Top scorer(s)[a]',\n",
       " 'Goals']"
      ]
     },
     "execution_count": 16,
     "metadata": {},
     "output_type": "execute_result"
    }
   ],
   "source": [
    "columns"
   ]
  },
  {
   "cell_type": "code",
   "execution_count": 17,
   "metadata": {
    "collapsed": false
   },
   "outputs": [],
   "source": [
    "for col in man_city:\n",
    "    try:\n",
    "        man_city[col] = man_city[col].str.strip()\n",
    "    except AttributeError:\n",
    "        pass"
   ]
  },
  {
   "cell_type": "code",
   "execution_count": 18,
   "metadata": {
    "collapsed": false
   },
   "outputs": [],
   "source": [
    "man_city.drop(['FA Cup','League Cup','UEFA / FIFA / Other','UEFA / FIFA / Other.1'], axis = 1, inplace = True)"
   ]
  },
  {
   "cell_type": "code",
   "execution_count": 19,
   "metadata": {
    "collapsed": false
   },
   "outputs": [
    {
     "data": {
      "text/html": [
       "<div>\n",
       "<table border=\"1\" class=\"dataframe\">\n",
       "  <thead>\n",
       "    <tr style=\"text-align: right;\">\n",
       "      <th></th>\n",
       "      <th>Season</th>\n",
       "      <th>Division (Tier)</th>\n",
       "      <th>Pld</th>\n",
       "      <th>W</th>\n",
       "      <th>D</th>\n",
       "      <th>L</th>\n",
       "      <th>GF</th>\n",
       "      <th>GA</th>\n",
       "      <th>Pts</th>\n",
       "      <th>Pos</th>\n",
       "      <th>Top scorer(s)[a]</th>\n",
       "      <th>Goals</th>\n",
       "    </tr>\n",
       "  </thead>\n",
       "  <tbody>\n",
       "    <tr>\n",
       "      <th>0</th>\n",
       "      <td>1891–92</td>\n",
       "      <td>Alln</td>\n",
       "      <td>22</td>\n",
       "      <td>6</td>\n",
       "      <td>6</td>\n",
       "      <td>10</td>\n",
       "      <td>39</td>\n",
       "      <td>51</td>\n",
       "      <td>18</td>\n",
       "      <td>8th</td>\n",
       "      <td>Hugh Morris</td>\n",
       "      <td>10</td>\n",
       "    </tr>\n",
       "    <tr>\n",
       "      <th>1</th>\n",
       "      <td>1892–93</td>\n",
       "      <td>Div 2 (2)</td>\n",
       "      <td>22</td>\n",
       "      <td>9</td>\n",
       "      <td>3</td>\n",
       "      <td>10</td>\n",
       "      <td>45</td>\n",
       "      <td>40</td>\n",
       "      <td>21</td>\n",
       "      <td>5th</td>\n",
       "      <td>David Weir</td>\n",
       "      <td>8</td>\n",
       "    </tr>\n",
       "    <tr>\n",
       "      <th>2</th>\n",
       "      <td>1893–94</td>\n",
       "      <td>Div 2 (2)</td>\n",
       "      <td>28</td>\n",
       "      <td>8</td>\n",
       "      <td>2</td>\n",
       "      <td>18</td>\n",
       "      <td>47</td>\n",
       "      <td>71</td>\n",
       "      <td>18</td>\n",
       "      <td>13th</td>\n",
       "      <td>Hugh Morris</td>\n",
       "      <td>7</td>\n",
       "    </tr>\n",
       "    <tr>\n",
       "      <th>3</th>\n",
       "      <td>1894–95</td>\n",
       "      <td>Div 2 (2)</td>\n",
       "      <td>30</td>\n",
       "      <td>14</td>\n",
       "      <td>3</td>\n",
       "      <td>13</td>\n",
       "      <td>82</td>\n",
       "      <td>72</td>\n",
       "      <td>31</td>\n",
       "      <td>9th</td>\n",
       "      <td>Pat Finnerhan</td>\n",
       "      <td>15</td>\n",
       "    </tr>\n",
       "    <tr>\n",
       "      <th>4</th>\n",
       "      <td>1895–96</td>\n",
       "      <td>Div 2 (2)</td>\n",
       "      <td>30</td>\n",
       "      <td>21</td>\n",
       "      <td>4</td>\n",
       "      <td>5</td>\n",
       "      <td>63</td>\n",
       "      <td>38</td>\n",
       "      <td>46</td>\n",
       "      <td>2nd[c]</td>\n",
       "      <td>Billy Meredith</td>\n",
       "      <td>13</td>\n",
       "    </tr>\n",
       "  </tbody>\n",
       "</table>\n",
       "</div>"
      ],
      "text/plain": [
       "    Season Division (Tier) Pld   W  D   L  GF  GA Pts     Pos  \\\n",
       "0  1891–92            Alln  22   6  6  10  39  51  18     8th   \n",
       "1  1892–93       Div 2 (2)  22   9  3  10  45  40  21     5th   \n",
       "2  1893–94       Div 2 (2)  28   8  2  18  47  71  18    13th   \n",
       "3  1894–95       Div 2 (2)  30  14  3  13  82  72  31     9th   \n",
       "4  1895–96       Div 2 (2)  30  21  4   5  63  38  46  2nd[c]   \n",
       "\n",
       "  Top scorer(s)[a] Goals  \n",
       "0      Hugh Morris    10  \n",
       "1       David Weir     8  \n",
       "2      Hugh Morris     7  \n",
       "3    Pat Finnerhan    15  \n",
       "4   Billy Meredith    13  "
      ]
     },
     "execution_count": 19,
     "metadata": {},
     "output_type": "execute_result"
    }
   ],
   "source": [
    "man_city.head()"
   ]
  },
  {
   "cell_type": "code",
   "execution_count": 20,
   "metadata": {
    "collapsed": false
   },
   "outputs": [],
   "source": [
    "nums = [str(c) for c in range(10)]\n",
    "man_city['Season'] = man_city['Season'].apply(lambda x: ''.join([c for c in x if c in nums][0:4]))"
   ]
  },
  {
   "cell_type": "code",
   "execution_count": 21,
   "metadata": {
    "collapsed": true
   },
   "outputs": [],
   "source": [
    "man_city = man_city[man_city['Season']!= '']"
   ]
  },
  {
   "cell_type": "code",
   "execution_count": 22,
   "metadata": {
    "collapsed": false
   },
   "outputs": [],
   "source": [
    "man_city['Season'] = man_city['Season'].astype('int')"
   ]
  },
  {
   "cell_type": "code",
   "execution_count": 23,
   "metadata": {
    "collapsed": true
   },
   "outputs": [],
   "source": [
    "man_city = man_city[man_city['Season'] >= 1900]"
   ]
  },
  {
   "cell_type": "code",
   "execution_count": 24,
   "metadata": {
    "collapsed": false
   },
   "outputs": [],
   "source": [
    "man_city.dropna(inplace = True)"
   ]
  },
  {
   "cell_type": "code",
   "execution_count": 25,
   "metadata": {
    "collapsed": false,
    "scrolled": true
   },
   "outputs": [],
   "source": [
    "to_drop = list(item for item in man_city['Pld'].values if item[0:2] =='No')"
   ]
  },
  {
   "cell_type": "code",
   "execution_count": 26,
   "metadata": {
    "collapsed": false
   },
   "outputs": [],
   "source": [
    "man_city = man_city[~man_city['Pld'].isin(to_drop)]"
   ]
  },
  {
   "cell_type": "code",
   "execution_count": 27,
   "metadata": {
    "collapsed": false
   },
   "outputs": [],
   "source": [
    "man_city['win_rate'] = round((man_city['W'].astype('int') / man_city['Pld'].astype('int')) * 100, 2)"
   ]
  },
  {
   "cell_type": "code",
   "execution_count": 28,
   "metadata": {
    "collapsed": false
   },
   "outputs": [
    {
     "data": {
      "text/html": [
       "<div>\n",
       "<table border=\"1\" class=\"dataframe\">\n",
       "  <thead>\n",
       "    <tr style=\"text-align: right;\">\n",
       "      <th></th>\n",
       "      <th>Season</th>\n",
       "      <th>Division (Tier)</th>\n",
       "      <th>Pld</th>\n",
       "      <th>W</th>\n",
       "      <th>D</th>\n",
       "      <th>L</th>\n",
       "      <th>GF</th>\n",
       "      <th>GA</th>\n",
       "      <th>Pts</th>\n",
       "      <th>Pos</th>\n",
       "      <th>Top scorer(s)[a]</th>\n",
       "      <th>Goals</th>\n",
       "      <th>win_rate</th>\n",
       "    </tr>\n",
       "  </thead>\n",
       "  <tbody>\n",
       "    <tr>\n",
       "      <th>9</th>\n",
       "      <td>1900</td>\n",
       "      <td>Div 1 (1)</td>\n",
       "      <td>34</td>\n",
       "      <td>13</td>\n",
       "      <td>6</td>\n",
       "      <td>15</td>\n",
       "      <td>48</td>\n",
       "      <td>58</td>\n",
       "      <td>32</td>\n",
       "      <td>11th</td>\n",
       "      <td>Joe Cassidy</td>\n",
       "      <td>15</td>\n",
       "      <td>38.24</td>\n",
       "    </tr>\n",
       "    <tr>\n",
       "      <th>10</th>\n",
       "      <td>1901</td>\n",
       "      <td>Div 1 (1)</td>\n",
       "      <td>34</td>\n",
       "      <td>11</td>\n",
       "      <td>6</td>\n",
       "      <td>17</td>\n",
       "      <td>42</td>\n",
       "      <td>58</td>\n",
       "      <td>28</td>\n",
       "      <td>18th</td>\n",
       "      <td>Billie Gillespie</td>\n",
       "      <td>15</td>\n",
       "      <td>32.35</td>\n",
       "    </tr>\n",
       "    <tr>\n",
       "      <th>11</th>\n",
       "      <td>1902</td>\n",
       "      <td>Div 2 (2)</td>\n",
       "      <td>34</td>\n",
       "      <td>25</td>\n",
       "      <td>4</td>\n",
       "      <td>5</td>\n",
       "      <td>95</td>\n",
       "      <td>29</td>\n",
       "      <td>54</td>\n",
       "      <td>1st</td>\n",
       "      <td>Billie Gillespie</td>\n",
       "      <td>30</td>\n",
       "      <td>73.53</td>\n",
       "    </tr>\n",
       "    <tr>\n",
       "      <th>12</th>\n",
       "      <td>1903</td>\n",
       "      <td>Div 1 (1)</td>\n",
       "      <td>34</td>\n",
       "      <td>19</td>\n",
       "      <td>6</td>\n",
       "      <td>9</td>\n",
       "      <td>71</td>\n",
       "      <td>45</td>\n",
       "      <td>44</td>\n",
       "      <td>2nd</td>\n",
       "      <td>Billie GillespieSandy Turnbull</td>\n",
       "      <td>21</td>\n",
       "      <td>55.88</td>\n",
       "    </tr>\n",
       "    <tr>\n",
       "      <th>13</th>\n",
       "      <td>1904</td>\n",
       "      <td>Div 1 (1)</td>\n",
       "      <td>34</td>\n",
       "      <td>20</td>\n",
       "      <td>6</td>\n",
       "      <td>8</td>\n",
       "      <td>66</td>\n",
       "      <td>37</td>\n",
       "      <td>46</td>\n",
       "      <td>3rd</td>\n",
       "      <td>Sandy Turnbull</td>\n",
       "      <td>20</td>\n",
       "      <td>58.82</td>\n",
       "    </tr>\n",
       "  </tbody>\n",
       "</table>\n",
       "</div>"
      ],
      "text/plain": [
       "    Season Division (Tier) Pld   W  D   L  GF  GA Pts   Pos  \\\n",
       "9     1900       Div 1 (1)  34  13  6  15  48  58  32  11th   \n",
       "10    1901       Div 1 (1)  34  11  6  17  42  58  28  18th   \n",
       "11    1902       Div 2 (2)  34  25  4   5  95  29  54   1st   \n",
       "12    1903       Div 1 (1)  34  19  6   9  71  45  44   2nd   \n",
       "13    1904       Div 1 (1)  34  20  6   8  66  37  46   3rd   \n",
       "\n",
       "                  Top scorer(s)[a] Goals  win_rate  \n",
       "9                      Joe Cassidy    15     38.24  \n",
       "10                Billie Gillespie    15     32.35  \n",
       "11                Billie Gillespie    30     73.53  \n",
       "12  Billie GillespieSandy Turnbull    21     55.88  \n",
       "13                  Sandy Turnbull    20     58.82  "
      ]
     },
     "execution_count": 28,
     "metadata": {},
     "output_type": "execute_result"
    }
   ],
   "source": [
    "man_city.head()"
   ]
  },
  {
   "cell_type": "code",
   "execution_count": 29,
   "metadata": {
    "collapsed": false
   },
   "outputs": [
    {
     "data": {
      "text/html": [
       "<div>\n",
       "<table border=\"1\" class=\"dataframe\">\n",
       "  <thead>\n",
       "    <tr style=\"text-align: right;\">\n",
       "      <th></th>\n",
       "      <th>Season</th>\n",
       "      <th>Division (Tier)</th>\n",
       "      <th>Pld</th>\n",
       "      <th>W</th>\n",
       "      <th>D</th>\n",
       "      <th>L</th>\n",
       "      <th>GF</th>\n",
       "      <th>GA</th>\n",
       "      <th>Pts</th>\n",
       "      <th>Pos</th>\n",
       "      <th>Top scorer(s)[a]</th>\n",
       "      <th>Goals</th>\n",
       "      <th>win_rate</th>\n",
       "    </tr>\n",
       "  </thead>\n",
       "  <tbody>\n",
       "    <tr>\n",
       "      <th>142</th>\n",
       "      <td>2017</td>\n",
       "      <td>Prem (1)</td>\n",
       "      <td>38</td>\n",
       "      <td>32</td>\n",
       "      <td>4</td>\n",
       "      <td>2</td>\n",
       "      <td>106</td>\n",
       "      <td>27</td>\n",
       "      <td>100</td>\n",
       "      <td>1st</td>\n",
       "      <td>Sergio Agüero</td>\n",
       "      <td>30</td>\n",
       "      <td>84.21</td>\n",
       "    </tr>\n",
       "    <tr>\n",
       "      <th>143</th>\n",
       "      <td>2018</td>\n",
       "      <td>Prem (1)</td>\n",
       "      <td>38</td>\n",
       "      <td>32</td>\n",
       "      <td>2</td>\n",
       "      <td>4</td>\n",
       "      <td>95</td>\n",
       "      <td>23</td>\n",
       "      <td>98</td>\n",
       "      <td>1st</td>\n",
       "      <td>Sergio Agüero</td>\n",
       "      <td>32</td>\n",
       "      <td>84.21</td>\n",
       "    </tr>\n",
       "    <tr>\n",
       "      <th>144</th>\n",
       "      <td>2018</td>\n",
       "      <td>Prem (1)</td>\n",
       "      <td>38</td>\n",
       "      <td>32</td>\n",
       "      <td>2</td>\n",
       "      <td>4</td>\n",
       "      <td>95</td>\n",
       "      <td>23</td>\n",
       "      <td>98</td>\n",
       "      <td>1st</td>\n",
       "      <td>Sergio Agüero</td>\n",
       "      <td>32</td>\n",
       "      <td>84.21</td>\n",
       "    </tr>\n",
       "    <tr>\n",
       "      <th>145</th>\n",
       "      <td>2019</td>\n",
       "      <td>Prem (1)</td>\n",
       "      <td>38</td>\n",
       "      <td>26</td>\n",
       "      <td>3</td>\n",
       "      <td>9</td>\n",
       "      <td>102</td>\n",
       "      <td>35</td>\n",
       "      <td>81</td>\n",
       "      <td>2nd</td>\n",
       "      <td>Raheem Sterling</td>\n",
       "      <td>31</td>\n",
       "      <td>68.42</td>\n",
       "    </tr>\n",
       "    <tr>\n",
       "      <th>146</th>\n",
       "      <td>2019</td>\n",
       "      <td>Prem (1)</td>\n",
       "      <td>38</td>\n",
       "      <td>26</td>\n",
       "      <td>3</td>\n",
       "      <td>9</td>\n",
       "      <td>102</td>\n",
       "      <td>35</td>\n",
       "      <td>81</td>\n",
       "      <td>2nd</td>\n",
       "      <td>Raheem Sterling</td>\n",
       "      <td>31</td>\n",
       "      <td>68.42</td>\n",
       "    </tr>\n",
       "  </tbody>\n",
       "</table>\n",
       "</div>"
      ],
      "text/plain": [
       "     Season Division (Tier) Pld   W  D  L   GF  GA  Pts  Pos Top scorer(s)[a]  \\\n",
       "142    2017        Prem (1)  38  32  4  2  106  27  100  1st    Sergio Agüero   \n",
       "143    2018        Prem (1)  38  32  2  4   95  23   98  1st    Sergio Agüero   \n",
       "144    2018        Prem (1)  38  32  2  4   95  23   98  1st    Sergio Agüero   \n",
       "145    2019        Prem (1)  38  26  3  9  102  35   81  2nd  Raheem Sterling   \n",
       "146    2019        Prem (1)  38  26  3  9  102  35   81  2nd  Raheem Sterling   \n",
       "\n",
       "    Goals  win_rate  \n",
       "142    30     84.21  \n",
       "143    32     84.21  \n",
       "144    32     84.21  \n",
       "145    31     68.42  \n",
       "146    31     68.42  "
      ]
     },
     "execution_count": 29,
     "metadata": {},
     "output_type": "execute_result"
    }
   ],
   "source": [
    "man_city.tail()"
   ]
  },
  {
   "cell_type": "code",
   "execution_count": 30,
   "metadata": {
    "collapsed": false
   },
   "outputs": [],
   "source": [
    "man_city = man_city.drop_duplicates()\n",
    "man_utd = man_utd.drop_duplicates()"
   ]
  },
  {
   "cell_type": "code",
   "execution_count": 36,
   "metadata": {
    "collapsed": false
   },
   "outputs": [],
   "source": [
    "man_city['Goals'] = man_city['Goals'].apply(lambda x: ''.join([c for c in x if c in nums][0:2]))"
   ]
  },
  {
   "cell_type": "code",
   "execution_count": 38,
   "metadata": {
    "collapsed": false
   },
   "outputs": [],
   "source": [
    "man_city = man_city[man_city['Goals']!= '']"
   ]
  },
  {
   "cell_type": "markdown",
   "metadata": {},
   "source": [
    "### Plotting:"
   ]
  },
  {
   "cell_type": "code",
   "execution_count": 55,
   "metadata": {
    "collapsed": false
   },
   "outputs": [
    {
     "data": {
      "image/png": "[encoded data removed]",
      "text/plain": [
       "<matplotlib.figure.Figure at 0x7f969d3493c8>"
      ]
     },
     "metadata": {},
     "output_type": "display_data"
    }
   ],
   "source": [
    "plt.style.use('seaborn')\n",
    "\n",
    "fig, (ax1,ax2) = plt.subplots(ncols = 1, nrows = 2, figsize = (17,8), sharex = True)\n",
    "\n",
    "ax1.plot(man_utd['Season'], man_utd['win_rate'].rolling(10).mean().values, color = 'red', label = 'Manchester United')\n",
    "ax1.plot(man_city['Season'], man_city['win_rate'].rolling(10).mean().values, color = 'Blue', label = 'Manchester City')\n",
    "ax1.legend()\n",
    "ax1.set_title('Manchester Football Team Win % (10 Year Rolling Average)')\n",
    "ax1.set_ylabel('%')\n",
    "\n",
    "ax2.bar(man_utd['Season'].values, man_utd['GF'].astype('int'), color = 'Red')\n",
    "ax2.bar(man_city['Season'].values, man_city['GF'].astype('int'), color = 'Blue')\n",
    "ax2.set_title('Manchester United Vs Manchester City (Goals Tally)')\n",
    "ax2.set_ylabel('# Goals')\n",
    "\n",
    "plt.tight_layout()\n",
    "plt.show()"
   ]
  },
  {
   "cell_type": "code",
   "execution_count": 58,
   "metadata": {
    "collapsed": true
   },
   "outputs": [],
   "source": [
    "plt.savefig('manchester.png')"
   ]
  }
 ],
 "metadata": {
  "kernelspec": {
   "display_name": "Python 3",
   "language": "python",
   "name": "python3"
  },
  "language_info": {
   "codemirror_mode": {
    "name": "ipython",
    "version": 3
   },
   "file_extension": ".py",
   "mimetype": "text/x-python",
   "name": "python",
   "nbconvert_exporter": "python",
   "pygments_lexer": "ipython3",
   "version": "3.6.2"
  }
 },
 "nbformat": 4,
 "nbformat_minor": 1
}
